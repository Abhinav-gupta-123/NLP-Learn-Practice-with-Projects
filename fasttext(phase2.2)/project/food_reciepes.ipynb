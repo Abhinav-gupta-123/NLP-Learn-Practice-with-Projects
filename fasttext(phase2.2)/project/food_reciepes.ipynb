{
 "cells": [
  {
   "cell_type": "markdown",
   "metadata": {},
   "source": [
    "if you dont have then download the model from fasttext official website according to your requirement"
   ]
  },
  {
   "cell_type": "code",
   "execution_count": 6,
   "metadata": {},
   "outputs": [
    {
     "name": "stdout",
     "output_type": "stream",
     "text": [
      "[ 1.57576188e-01  4.37820926e-02 -4.51271934e-03  6.65931404e-02\n",
      "  7.70346820e-02  4.85855248e-03  8.19822028e-03  6.52402919e-03\n",
      "  9.25899856e-03  3.53899002e-02 -2.31395271e-02 -4.91807126e-02\n",
      " -8.32642540e-02  1.56014524e-02  2.54856616e-01  3.45423706e-02\n",
      " -1.07451361e-02 -7.80188590e-02 -7.08099529e-02  7.62385577e-02\n",
      " -6.09613657e-02  4.48625796e-02 -7.29744136e-02  1.30583309e-02\n",
      "  3.14881057e-02 -3.10055036e-02  1.66004002e-02  1.74405202e-02\n",
      " -7.35838860e-02  1.18252613e-01 -1.21330231e-01 -4.09253240e-02\n",
      "  2.93969568e-02  4.84445989e-02 -1.33816330e-02 -1.74765270e-02\n",
      "  7.51308873e-02  9.97046307e-02 -4.00476977e-02  4.05735290e-03\n",
      " -7.21896589e-02 -4.43356819e-02 -1.22628408e-03  7.56693557e-02\n",
      "  3.98401320e-02  3.22643593e-02  1.95914153e-02  4.68016043e-02\n",
      " -1.46228177e-02  1.12967767e-01  3.15065160e-02 -1.02312110e-01\n",
      "  1.58124104e-01 -2.76147053e-02 -3.39851156e-02 -1.77006852e-02\n",
      " -5.73529862e-04  1.10789239e-01 -1.64533369e-02 -3.14955460e-03\n",
      " -4.22914140e-02  1.11429848e-01 -5.31049855e-02  4.91117276e-02\n",
      "  9.10004079e-02  6.57141507e-02 -3.71061601e-02  3.81702930e-02\n",
      "  7.25173131e-02 -5.31874336e-02  3.06243524e-02 -5.77391349e-02\n",
      " -8.07492957e-02 -9.05582383e-02 -8.05390999e-02 -6.03040010e-02\n",
      " -9.73476470e-02  4.83466834e-02  6.79628998e-02 -2.63391621e-03\n",
      " -8.63242708e-03 -5.09856315e-03  3.15496624e-02  6.66525513e-02\n",
      "  3.12875141e-04 -8.35073516e-02  4.45498899e-02  3.60494666e-02\n",
      " -2.06746310e-02 -6.20845817e-02 -9.07698199e-02 -4.88502011e-02\n",
      "  1.32845968e-01  1.26201622e-02  4.61448133e-02 -5.53582981e-02\n",
      "  2.26286706e-03  4.92154472e-02  3.35916355e-02  6.64286166e-02\n",
      " -8.92760456e-02 -5.37227653e-02  1.32202283e-01 -9.05150920e-03\n",
      "  3.26110516e-03 -4.37462777e-02  7.51723945e-02 -4.36847992e-02\n",
      " -3.93423960e-02  4.89794314e-02  8.05674866e-02 -3.93629894e-02\n",
      " -7.60222226e-02  7.16625601e-02 -1.88665651e-02 -4.20744009e-02\n",
      "  3.32255103e-03 -2.13907361e-02 -1.30127341e-01  1.37401130e-02\n",
      " -5.14834598e-02  3.86724435e-02  4.92810011e-02 -6.17840439e-02\n",
      " -3.39861885e-02  3.51758078e-02  2.59123407e-02 -1.02832042e-01\n",
      "  6.01336509e-02 -7.14224055e-02 -2.23655030e-02 -1.03390224e-01\n",
      " -6.34965971e-02  1.22897769e-03 -8.42045806e-03 -7.10138381e-02\n",
      " -1.38788186e-02  9.29828510e-02 -7.62190223e-02 -1.79991737e-01\n",
      "  4.98081669e-02  5.59808277e-02  4.36702892e-02  1.68789774e-02\n",
      " -3.51566449e-02  5.45868883e-03 -1.51729390e-01  8.31367448e-03\n",
      "  1.33901536e-01  1.18388735e-01 -2.54749060e-02 -5.89675866e-02\n",
      " -1.15508147e-01 -9.11533982e-02 -3.26217338e-02  9.58938058e-03\n",
      "  7.08419904e-02 -1.19613513e-01 -2.44825650e-02  4.67297807e-02\n",
      " -1.05831511e-01  8.39347020e-03 -3.59367356e-02 -7.11603984e-02\n",
      "  1.49144500e-01 -9.40826610e-02  3.87760401e-02  4.80452590e-02\n",
      "  2.00118758e-02  5.70331514e-02 -5.09383976e-02 -1.54985264e-02\n",
      " -3.21162455e-02  6.39992654e-02  4.45546657e-02 -5.41638955e-02\n",
      "  2.38869134e-02  3.99200059e-02  4.95060384e-02 -8.13021213e-02\n",
      "  8.67957771e-02  2.78793890e-02  2.23497916e-02  6.88121617e-02\n",
      "  5.80286458e-02  1.24275330e-02  9.18484554e-02  1.70225650e-02\n",
      " -2.20671259e-02 -5.54737449e-02  3.15260515e-03 -8.95306170e-02\n",
      " -5.89935109e-04 -4.80783619e-02 -4.11259457e-02 -3.47180255e-02\n",
      " -4.23192009e-02  1.01052016e-01  4.34643961e-02  6.75219819e-02\n",
      " -7.32917935e-02  2.32507251e-02  3.76763381e-02  9.02093761e-03\n",
      " -8.25045630e-02 -9.67509300e-02  5.91404364e-03  2.62256898e-02\n",
      " -2.22521871e-02  7.38612264e-02 -1.88500714e-03 -9.77522582e-02\n",
      " -5.37980236e-02 -4.76639681e-02 -1.30426334e-02  8.38671811e-04\n",
      "  2.90181581e-02 -3.12499143e-03 -9.28533375e-02  6.73858598e-02\n",
      " -1.85458809e-01  4.01153788e-02 -5.62882163e-02  6.18898645e-02\n",
      "  8.93600285e-02 -6.91142231e-02 -3.22221480e-02 -1.35385573e-01\n",
      " -7.45606720e-02  1.01488158e-01 -2.72288243e-03  6.07009046e-02\n",
      "  2.42582299e-02 -1.51890054e-01 -2.93815900e-02 -4.21775132e-03\n",
      "  5.16449586e-02  1.85986951e-01 -2.56413780e-02  8.12229067e-02\n",
      "  3.16283293e-03 -3.35572846e-02  3.90090160e-02 -7.37856179e-02\n",
      "  1.14605539e-01 -7.38329254e-05 -3.69094908e-02  9.31020677e-02\n",
      " -2.92852186e-02  5.21238521e-02  7.99705926e-03 -2.93293986e-02\n",
      "  1.31182939e-01 -8.32130760e-02 -3.40401530e-02  1.21310152e-01\n",
      "  3.51337232e-02  4.17837035e-03  5.03289811e-02  2.06086487e-02\n",
      "  7.90461749e-02 -4.95089963e-02  2.54211240e-02 -2.95754354e-02\n",
      " -2.65460461e-02  5.42523079e-02 -5.52508160e-02  1.06864944e-02\n",
      " -3.00089158e-02 -6.05286062e-02  8.54329094e-02 -6.65596053e-02\n",
      " -6.78129196e-02  3.51911336e-02  6.19770139e-02  4.80552204e-02\n",
      " -3.45021002e-02 -2.87248623e-02 -5.90536669e-02 -5.05724642e-03\n",
      " -9.74042267e-02  1.88945048e-03 -9.06497836e-02  1.47764226e-02\n",
      " -9.77678970e-02  3.95894758e-02  2.82567330e-02 -9.28364843e-02\n",
      " -8.16594157e-03 -4.56805378e-02  1.12314738e-01  8.59746262e-02\n",
      " -1.47517517e-01  8.33301097e-02  9.94666740e-02 -3.67202386e-02\n",
      "  6.84743300e-02  8.06697235e-02 -4.50269580e-02 -3.11294980e-02]\n"
     ]
    }
   ],
   "source": [
    "from gensim.models.fasttext import load_facebook_model\n",
    "\n",
    "model = load_facebook_model(r\"C:\\Users\\abhin\\Desktop\\NLP\\phase2(Feature_engineering)\\fasttext\\cc.en.300.bin\")\n",
    "print(model.wv[\"hello\"])  # Example: Get word vector"
   ]
  },
  {
   "cell_type": "markdown",
   "metadata": {},
   "source": [
    "Because of some issue i use facebook_model instead of fastext but bellow i use fasttext"
   ]
  },
  {
   "cell_type": "code",
   "execution_count": 1,
   "metadata": {},
   "outputs": [],
   "source": [
    "import pandas as pd"
   ]
  },
  {
   "cell_type": "markdown",
   "metadata": {},
   "source": [
    "kaggle dataset:https://www.kaggle.com/datasets/sooryaprakash12/cleaned-indian-recipes-dataset"
   ]
  },
  {
   "cell_type": "code",
   "execution_count": 2,
   "metadata": {},
   "outputs": [
    {
     "data": {
      "text/html": [
       "<div>\n",
       "<style scoped>\n",
       "    .dataframe tbody tr th:only-of-type {\n",
       "        vertical-align: middle;\n",
       "    }\n",
       "\n",
       "    .dataframe tbody tr th {\n",
       "        vertical-align: top;\n",
       "    }\n",
       "\n",
       "    .dataframe thead th {\n",
       "        text-align: right;\n",
       "    }\n",
       "</style>\n",
       "<table border=\"1\" class=\"dataframe\">\n",
       "  <thead>\n",
       "    <tr style=\"text-align: right;\">\n",
       "      <th></th>\n",
       "      <th>TranslatedRecipeName</th>\n",
       "      <th>TranslatedIngredients</th>\n",
       "      <th>TotalTimeInMins</th>\n",
       "      <th>Cuisine</th>\n",
       "      <th>TranslatedInstructions</th>\n",
       "      <th>URL</th>\n",
       "      <th>Cleaned-Ingredients</th>\n",
       "      <th>image-url</th>\n",
       "      <th>Ingredient-count</th>\n",
       "    </tr>\n",
       "  </thead>\n",
       "  <tbody>\n",
       "    <tr>\n",
       "      <th>0</th>\n",
       "      <td>Masala Karela Recipe</td>\n",
       "      <td>1 tablespoon Red Chilli powder,3 tablespoon Gr...</td>\n",
       "      <td>45</td>\n",
       "      <td>Indian</td>\n",
       "      <td>To begin making the Masala Karela Recipe,de-se...</td>\n",
       "      <td>https://www.archanaskitchen.com/masala-karela-...</td>\n",
       "      <td>salt,amchur (dry mango powder),karela (bitter ...</td>\n",
       "      <td>https://www.archanaskitchen.com/images/archana...</td>\n",
       "      <td>10</td>\n",
       "    </tr>\n",
       "    <tr>\n",
       "      <th>1</th>\n",
       "      <td>Spicy Tomato Rice (Recipe)</td>\n",
       "      <td>2 teaspoon cashew - or peanuts, 1/2 Teaspoon ...</td>\n",
       "      <td>15</td>\n",
       "      <td>South Indian Recipes</td>\n",
       "      <td>To make tomato puliogere, first cut the tomato...</td>\n",
       "      <td>https://www.archanaskitchen.com/spicy-tomato-r...</td>\n",
       "      <td>tomato,salt,chickpea lentils,green chilli,rice...</td>\n",
       "      <td>https://www.archanaskitchen.com/images/archana...</td>\n",
       "      <td>12</td>\n",
       "    </tr>\n",
       "    <tr>\n",
       "      <th>2</th>\n",
       "      <td>Ragi Semiya Upma Recipe - Ragi Millet Vermicel...</td>\n",
       "      <td>1 Onion - sliced,1 teaspoon White Urad Dal (Sp...</td>\n",
       "      <td>50</td>\n",
       "      <td>South Indian Recipes</td>\n",
       "      <td>To begin making the Ragi Vermicelli Recipe, fi...</td>\n",
       "      <td>https://www.archanaskitchen.com/ragi-vermicell...</td>\n",
       "      <td>salt,rice vermicelli noodles (thin),asafoetida...</td>\n",
       "      <td>https://www.archanaskitchen.com/images/archana...</td>\n",
       "      <td>12</td>\n",
       "    </tr>\n",
       "    <tr>\n",
       "      <th>3</th>\n",
       "      <td>Gongura Chicken Curry Recipe - Andhra Style Go...</td>\n",
       "      <td>1/2 teaspoon Turmeric powder (Haldi),1 tablesp...</td>\n",
       "      <td>45</td>\n",
       "      <td>Andhra</td>\n",
       "      <td>To begin making Gongura Chicken Curry Recipe f...</td>\n",
       "      <td>https://www.archanaskitchen.com/gongura-chicke...</td>\n",
       "      <td>tomato,salt,ginger,sorrel leaves (gongura),fen...</td>\n",
       "      <td>https://www.archanaskitchen.com/images/archana...</td>\n",
       "      <td>15</td>\n",
       "    </tr>\n",
       "    <tr>\n",
       "      <th>4</th>\n",
       "      <td>Andhra Style Alam Pachadi Recipe - Adrak Chutn...</td>\n",
       "      <td>oil - as per use, 1 tablespoon coriander seed...</td>\n",
       "      <td>30</td>\n",
       "      <td>Andhra</td>\n",
       "      <td>To make Andhra Style Alam Pachadi, first heat ...</td>\n",
       "      <td>https://www.archanaskitchen.com/andhra-style-a...</td>\n",
       "      <td>tomato,salt,ginger,red chillies,curry,asafoeti...</td>\n",
       "      <td>https://www.archanaskitchen.com/images/archana...</td>\n",
       "      <td>12</td>\n",
       "    </tr>\n",
       "  </tbody>\n",
       "</table>\n",
       "</div>"
      ],
      "text/plain": [
       "                                TranslatedRecipeName  \\\n",
       "0                               Masala Karela Recipe   \n",
       "1                         Spicy Tomato Rice (Recipe)   \n",
       "2  Ragi Semiya Upma Recipe - Ragi Millet Vermicel...   \n",
       "3  Gongura Chicken Curry Recipe - Andhra Style Go...   \n",
       "4  Andhra Style Alam Pachadi Recipe - Adrak Chutn...   \n",
       "\n",
       "                               TranslatedIngredients  TotalTimeInMins  \\\n",
       "0  1 tablespoon Red Chilli powder,3 tablespoon Gr...               45   \n",
       "1   2 teaspoon cashew - or peanuts, 1/2 Teaspoon ...               15   \n",
       "2  1 Onion - sliced,1 teaspoon White Urad Dal (Sp...               50   \n",
       "3  1/2 teaspoon Turmeric powder (Haldi),1 tablesp...               45   \n",
       "4   oil - as per use, 1 tablespoon coriander seed...               30   \n",
       "\n",
       "                Cuisine                             TranslatedInstructions  \\\n",
       "0                Indian  To begin making the Masala Karela Recipe,de-se...   \n",
       "1  South Indian Recipes  To make tomato puliogere, first cut the tomato...   \n",
       "2  South Indian Recipes  To begin making the Ragi Vermicelli Recipe, fi...   \n",
       "3                Andhra  To begin making Gongura Chicken Curry Recipe f...   \n",
       "4                Andhra  To make Andhra Style Alam Pachadi, first heat ...   \n",
       "\n",
       "                                                 URL  \\\n",
       "0  https://www.archanaskitchen.com/masala-karela-...   \n",
       "1  https://www.archanaskitchen.com/spicy-tomato-r...   \n",
       "2  https://www.archanaskitchen.com/ragi-vermicell...   \n",
       "3  https://www.archanaskitchen.com/gongura-chicke...   \n",
       "4  https://www.archanaskitchen.com/andhra-style-a...   \n",
       "\n",
       "                                 Cleaned-Ingredients  \\\n",
       "0  salt,amchur (dry mango powder),karela (bitter ...   \n",
       "1  tomato,salt,chickpea lentils,green chilli,rice...   \n",
       "2  salt,rice vermicelli noodles (thin),asafoetida...   \n",
       "3  tomato,salt,ginger,sorrel leaves (gongura),fen...   \n",
       "4  tomato,salt,ginger,red chillies,curry,asafoeti...   \n",
       "\n",
       "                                           image-url  Ingredient-count  \n",
       "0  https://www.archanaskitchen.com/images/archana...                10  \n",
       "1  https://www.archanaskitchen.com/images/archana...                12  \n",
       "2  https://www.archanaskitchen.com/images/archana...                12  \n",
       "3  https://www.archanaskitchen.com/images/archana...                15  \n",
       "4  https://www.archanaskitchen.com/images/archana...                12  "
      ]
     },
     "execution_count": 2,
     "metadata": {},
     "output_type": "execute_result"
    }
   ],
   "source": [
    "df=pd.read_csv(r'C:\\Users\\abhin\\Desktop\\NLP\\phase2(Feature_engineering)\\fasttext\\Cleaned_Indian_Food_Dataset.csv')\n",
    "df.head()"
   ]
  },
  {
   "cell_type": "code",
   "execution_count": 3,
   "metadata": {},
   "outputs": [
    {
     "data": {
      "text/plain": [
       "(5938, 9)"
      ]
     },
     "execution_count": 3,
     "metadata": {},
     "output_type": "execute_result"
    }
   ],
   "source": [
    "df.shape"
   ]
  },
  {
   "cell_type": "code",
   "execution_count": 4,
   "metadata": {},
   "outputs": [
    {
     "data": {
      "text/plain": [
       "Index(['TranslatedRecipeName', 'TranslatedIngredients', 'TotalTimeInMins',\n",
       "       'Cuisine', 'TranslatedInstructions', 'URL', 'Cleaned-Ingredients',\n",
       "       'image-url', 'Ingredient-count'],\n",
       "      dtype='object')"
      ]
     },
     "execution_count": 4,
     "metadata": {},
     "output_type": "execute_result"
    }
   ],
   "source": [
    "df.columns"
   ]
  },
  {
   "cell_type": "code",
   "execution_count": 5,
   "metadata": {},
   "outputs": [
    {
     "data": {
      "text/plain": [
       "Cuisine\n",
       "Continental             952\n",
       "Indian                  927\n",
       "North Indian Recipes    763\n",
       "South Indian Recipes    558\n",
       "Italian Recipes         231\n",
       "                       ... \n",
       "Burmese                   1\n",
       "Shandong                  1\n",
       "Brunch                    1\n",
       "Lunch                     1\n",
       "Dessert                   1\n",
       "Name: count, Length: 82, dtype: int64"
      ]
     },
     "execution_count": 5,
     "metadata": {},
     "output_type": "execute_result"
    }
   ],
   "source": [
    "df.Cuisine.value_counts()"
   ]
  },
  {
   "cell_type": "code",
   "execution_count": 7,
   "metadata": {},
   "outputs": [
    {
     "data": {
      "text/plain": [
       "'To begin making the Masala Karela Recipe,de-seed the karela and slice.\\nDo not remove the skin as the skin has all the nutrients.\\nAdd the karela to the pressure cooker with 3 tablespoon of water, salt and turmeric powder and pressure cook for three whistles.\\nRelease the pressure immediately and open the lids.\\nKeep aside.Heat oil in a heavy bottomed pan or a kadhai.\\nAdd cumin seeds and let it sizzle.Once the cumin seeds have sizzled, add onions and saute them till it turns golden brown in color.Add the karela, red chilli powder, amchur powder, coriander powder and besan.\\nStir to combine the masalas into the karela.Drizzle a little extra oil on the top and mix again.\\nCover the pan and simmer Masala Karela stirring occasionally until everything comes together well.\\nTurn off the heat.Transfer Masala Karela into a serving bowl and serve.Serve Masala Karela along with Panchmel Dal and Phulka for a weekday meal with your family.\\n'"
      ]
     },
     "execution_count": 7,
     "metadata": {},
     "output_type": "execute_result"
    }
   ],
   "source": [
    "df.TranslatedInstructions[0]"
   ]
  },
  {
   "cell_type": "code",
   "execution_count": 8,
   "metadata": {},
   "outputs": [],
   "source": [
    "import re\n",
    "text='To begin making the Masala Karela Recipe,de-seed the karela and slice.\\nDo not remove the skin as the skin has all the nutrients.\\nAdd the karela to the pressure cooker with 3 tablespoon of water, salt and turmeric powder and pressure cook for three whistles.\\nRelease the pressure immediately and open the lids.\\nKeep aside.Heat oil in a heavy bottomed pan or a kadhai.\\nAdd cumin seeds and let it sizzle.Once the cumin seeds have sizzled, add onions and saute them till it turns golden brown in color.Add the karela, red chilli powder, amchur powder, coriander powder and besan.\\nStir to combine the masalas into the karela.Drizzle a little extra oil on the top and mix again.\\nCover the pan and simmer Masala Karela stirring occasionally until everything comes together well.\\nTurn off the heat.Transfer Masala Karela into a serving bowl and serve.Serve Masala Karela along with Panchmel Dal and Phulka for a weekday meal with your family.\\n'\n"
   ]
  },
  {
   "cell_type": "code",
   "execution_count": 9,
   "metadata": {},
   "outputs": [
    {
     "data": {
      "text/plain": [
       "'To begin making the Masala Karela Recipe de seed the karela and slice \\nDo not remove the skin as the skin has all the nutrients \\nAdd the karela to the pressure cooker with 3 tablespoon of water  salt and turmeric powder and pressure cook for three whistles \\nRelease the pressure immediately and open the lids \\nKeep aside Heat oil in a heavy bottomed pan or a kadhai \\nAdd cumin seeds and let it sizzle Once the cumin seeds have sizzled  add onions and saute them till it turns golden brown in color Add the karela  red chilli powder  amchur powder  coriander powder and besan \\nStir to combine the masalas into the karela Drizzle a little extra oil on the top and mix again \\nCover the pan and simmer Masala Karela stirring occasionally until everything comes together well \\nTurn off the heat Transfer Masala Karela into a serving bowl and serve Serve Masala Karela along with Panchmel Dal and Phulka for a weekday meal with your family \\n'"
      ]
     },
     "execution_count": 9,
     "metadata": {},
     "output_type": "execute_result"
    }
   ],
   "source": [
    "re.sub(r'[^\\w\\s]',' ',text,flags=re.MULTILINE)"
   ]
  },
  {
   "cell_type": "code",
   "execution_count": 10,
   "metadata": {},
   "outputs": [],
   "source": [
    "def preprocess(text):\n",
    "    text=re.sub(r'[^\\w\\s]',' ',text)\n",
    "    text=re.sub(r'[ \\n]+',' ',text)\n",
    "    return text.strip().lower()"
   ]
  },
  {
   "cell_type": "code",
   "execution_count": 11,
   "metadata": {},
   "outputs": [
    {
     "data": {
      "text/plain": [
       "'to begin making the masala karela recipe de seed the karela and slice do not remove the skin as the skin has all the nutrients add the karela to the pressure cooker with 3 tablespoon of water salt and turmeric powder and pressure cook for three whistles release the pressure immediately and open the lids keep aside heat oil in a heavy bottomed pan or a kadhai add cumin seeds and let it sizzle once the cumin seeds have sizzled add onions and saute them till it turns golden brown in color add the karela red chilli powder amchur powder coriander powder and besan stir to combine the masalas into the karela drizzle a little extra oil on the top and mix again cover the pan and simmer masala karela stirring occasionally until everything comes together well turn off the heat transfer masala karela into a serving bowl and serve serve masala karela along with panchmel dal and phulka for a weekday meal with your family'"
      ]
     },
     "execution_count": 11,
     "metadata": {},
     "output_type": "execute_result"
    }
   ],
   "source": [
    "preprocess('To begin making the Masala Karela Recipe,de-seed the karela and slice.\\nDo not remove the skin as the skin has all the nutrients.\\nAdd the karela to the pressure cooker with 3 tablespoon of water, salt and turmeric powder and pressure cook for three whistles.\\nRelease the pressure immediately and open the lids.\\nKeep aside.Heat oil in a heavy bottomed pan or a kadhai.\\nAdd cumin seeds and let it sizzle.Once the cumin seeds have sizzled, add onions and saute them till it turns golden brown in color.Add the karela, red chilli powder, amchur powder, coriander powder and besan.\\nStir to combine the masalas into the karela.Drizzle a little extra oil on the top and mix again.\\nCover the pan and simmer Masala Karela stirring occasionally until everything comes together well.\\nTurn off the heat.Transfer Masala Karela into a serving bowl and serve.Serve Masala Karela along with Panchmel Dal and Phulka for a weekday meal with your family.\\n'\n",
    ")"
   ]
  },
  {
   "cell_type": "code",
   "execution_count": 12,
   "metadata": {},
   "outputs": [],
   "source": [
    "df.TranslatedInstructions=df.TranslatedInstructions.map(preprocess)"
   ]
  },
  {
   "cell_type": "code",
   "execution_count": 13,
   "metadata": {},
   "outputs": [
    {
     "data": {
      "text/plain": [
       "'to begin making the masala karela recipe de seed the karela and slice do not remove the skin as the skin has all the nutrients add the karela to the pressure cooker with 3 tablespoon of water salt and turmeric powder and pressure cook for three whistles release the pressure immediately and open the lids keep aside heat oil in a heavy bottomed pan or a kadhai add cumin seeds and let it sizzle once the cumin seeds have sizzled add onions and saute them till it turns golden brown in color add the karela red chilli powder amchur powder coriander powder and besan stir to combine the masalas into the karela drizzle a little extra oil on the top and mix again cover the pan and simmer masala karela stirring occasionally until everything comes together well turn off the heat transfer masala karela into a serving bowl and serve serve masala karela along with panchmel dal and phulka for a weekday meal with your family'"
      ]
     },
     "execution_count": 13,
     "metadata": {},
     "output_type": "execute_result"
    }
   ],
   "source": [
    "df.TranslatedInstructions[0]"
   ]
  },
  {
   "cell_type": "code",
   "execution_count": 14,
   "metadata": {},
   "outputs": [],
   "source": [
    "df.to_csv(\"modified_receipes.txt\",columns=[\"TranslatedInstructions\"],header=None,index=False)"
   ]
  },
  {
   "cell_type": "code",
   "execution_count": 16,
   "metadata": {},
   "outputs": [
    {
     "name": "stdout",
     "output_type": "stream",
     "text": [
      "Collecting fasttext-wheel\n",
      "  Using cached fasttext_wheel-0.9.2-cp312-cp312-win_amd64.whl.metadata (16 kB)\n",
      "Collecting pybind11>=2.2 (from fasttext-wheel)\n",
      "  Using cached pybind11-2.13.6-py3-none-any.whl.metadata (9.5 kB)\n",
      "Requirement already satisfied: setuptools>=0.7.0 in c:\\users\\abhin\\desktop\\.venv\\lib\\site-packages (from fasttext-wheel) (78.0.2)\n",
      "Requirement already satisfied: numpy in c:\\users\\abhin\\desktop\\.venv\\lib\\site-packages (from fasttext-wheel) (1.26.4)\n",
      "Using cached fasttext_wheel-0.9.2-cp312-cp312-win_amd64.whl (234 kB)\n",
      "Using cached pybind11-2.13.6-py3-none-any.whl (243 kB)\n",
      "Installing collected packages: pybind11, fasttext-wheel\n",
      "Successfully installed fasttext-wheel-0.9.2 pybind11-2.13.6\n",
      "Note: you may need to restart the kernel to use updated packages.\n"
     ]
    }
   ],
   "source": [
    "%pip install fasttext-wheel\n",
    "import fasttext"
   ]
  },
  {
   "cell_type": "code",
   "execution_count": 24,
   "metadata": {},
   "outputs": [],
   "source": [
    "import fasttext\n",
    "\n",
    "model = fasttext.train_unsupervised(\"modified_receipes.txt\")"
   ]
  },
  {
   "cell_type": "code",
   "execution_count": 25,
   "metadata": {},
   "outputs": [
    {
     "data": {
      "text/plain": [
       "[(0.9249784350395203, 'chutneys'),\n",
       " (0.7251430153846741, 'dhaniya'),\n",
       " (0.7208957076072693, 'imli'),\n",
       " (0.6962963938713074, 'khajur'),\n",
       " (0.6821580529212952, 'mullu'),\n",
       " (0.6817362308502197, 'pudina'),\n",
       " (0.6643552780151367, 'kumbakonam'),\n",
       " (0.6637018918991089, 'mavinakayi'),\n",
       " (0.6500007510185242, 'madurai'),\n",
       " (0.6435238718986511, 'sippe')]"
      ]
     },
     "execution_count": 25,
     "metadata": {},
     "output_type": "execute_result"
    }
   ],
   "source": [
    "model.get_nearest_neighbors('chutney')"
   ]
  },
  {
   "cell_type": "code",
   "execution_count": 27,
   "metadata": {},
   "outputs": [
    {
     "data": {
      "text/plain": [
       "[(0.8485054969787598, 'dosas'),\n",
       " (0.8354111313819885, 'dosai'),\n",
       " (0.7578349709510803, 'uthappam'),\n",
       " (0.7303338050842285, 'uttapam'),\n",
       " (0.7281211018562317, 'pesarattu'),\n",
       " (0.7102727890014648, 'dose'),\n",
       " (0.6893351674079895, 'achappam'),\n",
       " (0.6859970688819885, 'appachetty'),\n",
       " (0.6768031716346741, 'kanchipuram'),\n",
       " (0.6744693517684937, 'idli')]"
      ]
     },
     "execution_count": 27,
     "metadata": {},
     "output_type": "execute_result"
    }
   ],
   "source": [
    "model.get_nearest_neighbors('dosa')"
   ]
  },
  {
   "cell_type": "code",
   "execution_count": 1,
   "metadata": {},
   "outputs": [
    {
     "ename": "NameError",
     "evalue": "name 'model' is not defined",
     "output_type": "error",
     "traceback": [
      "\u001b[1;31m---------------------------------------------------------------------------\u001b[0m",
      "\u001b[1;31mNameError\u001b[0m                                 Traceback (most recent call last)",
      "Cell \u001b[1;32mIn[1], line 1\u001b[0m\n\u001b[1;32m----> 1\u001b[0m \u001b[43mmodel\u001b[49m\u001b[38;5;241m.\u001b[39mget_word_vector(\u001b[38;5;124m\"\u001b[39m\u001b[38;5;124mhalwa\u001b[39m\u001b[38;5;124m\"\u001b[39m)\u001b[38;5;241m.\u001b[39mshape\n",
      "\u001b[1;31mNameError\u001b[0m: name 'model' is not defined"
     ]
    },
    {
     "name": "stdout",
     "output_type": "stream",
     "text": [
      "ERROR! Session/line number was not unique in database. History logging moved to new session 433\n"
     ]
    }
   ],
   "source": [
    "model.get_word_vector(\"halwa\").shape"
   ]
  },
  {
   "cell_type": "code",
   "execution_count": null,
   "metadata": {},
   "outputs": [],
   "source": [
    " "
   ]
  }
 ],
 "metadata": {
  "kernelspec": {
   "display_name": ".venv",
   "language": "python",
   "name": "python3"
  },
  "language_info": {
   "codemirror_mode": {
    "name": "ipython",
    "version": 3
   },
   "file_extension": ".py",
   "mimetype": "text/x-python",
   "name": "python",
   "nbconvert_exporter": "python",
   "pygments_lexer": "ipython3",
   "version": "3.12.4"
  }
 },
 "nbformat": 4,
 "nbformat_minor": 2
}
