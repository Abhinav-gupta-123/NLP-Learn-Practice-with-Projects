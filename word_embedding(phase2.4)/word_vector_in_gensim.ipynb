{
 "cells": [
  {
   "cell_type": "code",
   "execution_count": 1,
   "metadata": {},
   "outputs": [
    {
     "name": "stdout",
     "output_type": "stream",
     "text": [
      "Note: you may need to restart the kernel to use updated packages.Collecting gensim\n",
      "  Downloading gensim-4.3.3-cp312-cp312-win_amd64.whl.metadata (8.2 kB)\n",
      "Collecting numpy<2.0,>=1.18.5 (from gensim)\n",
      "  Using cached numpy-1.26.4-cp312-cp312-win_amd64.whl.metadata (61 kB)\n",
      "Collecting scipy<1.14.0,>=1.7.0 (from gensim)\n",
      "  Downloading scipy-1.13.1-cp312-cp312-win_amd64.whl.metadata (60 kB)\n",
      "Requirement already satisfied: smart-open>=1.8.1 in c:\\users\\abhin\\desktop\\.venv\\lib\\site-packages (from gensim) (7.1.0)\n",
      "Requirement already satisfied: wrapt in c:\\users\\abhin\\desktop\\.venv\\lib\\site-packages (from smart-open>=1.8.1->gensim) (1.17.2)\n",
      "Downloading gensim-4.3.3-cp312-cp312-win_amd64.whl (24.0 MB)\n",
      "   ---------------------------------------- 0.0/24.0 MB ? eta -:--:--\n",
      "   --- ------------------------------------ 1.8/24.0 MB 11.2 MB/s eta 0:00:02\n",
      "   ---------- ----------------------------- 6.0/24.0 MB 15.4 MB/s eta 0:00:02\n",
      "   --------------- ------------------------ 9.2/24.0 MB 15.0 MB/s eta 0:00:01\n",
      "   --------------------- ------------------ 12.8/24.0 MB 15.8 MB/s eta 0:00:01\n",
      "   ----------------------------- ---------- 17.8/24.0 MB 17.6 MB/s eta 0:00:01\n",
      "   -------------------------------------- - 23.3/24.0 MB 18.9 MB/s eta 0:00:01\n",
      "   ---------------------------------------- 24.0/24.0 MB 18.5 MB/s eta 0:00:00\n",
      "Using cached numpy-1.26.4-cp312-cp312-win_amd64.whl (15.5 MB)\n",
      "Downloading scipy-1.13.1-cp312-cp312-win_amd64.whl (45.9 MB)\n",
      "   ---------------------------------------- 0.0/45.9 MB ? eta -:--:--\n",
      "   ----- ---------------------------------- 6.0/45.9 MB 28.4 MB/s eta 0:00:02\n",
      "   ---------- ----------------------------- 12.3/45.9 MB 28.6 MB/s eta 0:00:02\n",
      "   --------------- ------------------------ 17.3/45.9 MB 28.0 MB/s eta 0:00:02\n",
      "   ------------------ --------------------- 20.7/45.9 MB 25.2 MB/s eta 0:00:02\n",
      "   ---------------------- ----------------- 25.4/45.9 MB 24.4 MB/s eta 0:00:01\n",
      "   -------------------------- ------------- 30.1/45.9 MB 23.9 MB/s eta 0:00:01\n",
      "   ------------------------------ --------- 35.4/45.9 MB 24.2 MB/s eta 0:00:01\n",
      "   ----------------------------------- ---- 40.9/45.9 MB 24.5 MB/s eta 0:00:01\n",
      "   ---------------------------------------  45.9/45.9 MB 25.0 MB/s eta 0:00:01\n",
      "   ---------------------------------------- 45.9/45.9 MB 23.8 MB/s eta 0:00:00\n",
      "Installing collected packages: numpy, scipy, gensim\n",
      "  Attempting uninstall: numpy\n",
      "    Found existing installation: numpy 2.0.0\n",
      "    Uninstalling numpy-2.0.0:\n",
      "      Successfully uninstalled numpy-2.0.0\n",
      "  Attempting uninstall: scipy\n",
      "    Found existing installation: scipy 1.15.2\n",
      "    Uninstalling scipy-1.15.2:\n",
      "      Successfully uninstalled scipy-1.15.2\n",
      "Successfully installed gensim-4.3.3 numpy-1.26.4 scipy-1.13.1\n",
      "\n"
     ]
    },
    {
     "name": "stderr",
     "output_type": "stream",
     "text": [
      "  WARNING: Failed to remove contents in a temporary directory 'C:\\Users\\abhin\\Desktop\\.venv\\Lib\\site-packages\\~%mpy.libs'.\n",
      "  You can safely remove it manually.\n",
      "  WARNING: Failed to remove contents in a temporary directory 'C:\\Users\\abhin\\Desktop\\.venv\\Lib\\site-packages\\~%mpy'.\n",
      "  You can safely remove it manually.\n",
      "  WARNING: Failed to remove contents in a temporary directory 'C:\\Users\\abhin\\Desktop\\.venv\\Lib\\site-packages\\~-ipy.libs'.\n",
      "  You can safely remove it manually.\n",
      "  WARNING: Failed to remove contents in a temporary directory 'C:\\Users\\abhin\\Desktop\\.venv\\Lib\\site-packages\\~-ipy'.\n",
      "  You can safely remove it manually.\n",
      "ERROR: pip's dependency resolver does not currently take into account all the packages that are installed. This behaviour is the source of the following dependency conflicts.\n",
      "gradio 5.20.0 requires markupsafe~=2.0, but you have markupsafe 3.0.2 which is incompatible.\n",
      "pandas-profiling 3.2.0 requires joblib~=1.1.0, but you have joblib 1.4.2 which is incompatible.\n",
      "pandas-profiling 3.2.0 requires markupsafe~=2.1.1, but you have markupsafe 3.0.2 which is incompatible.\n",
      "ydata-profiling 4.12.2 requires multimethod<2,>=1.4, but you have multimethod 2.0 which is incompatible.\n",
      "ydata-profiling 4.12.2 requires visions[type_image_path]<0.8.0,>=0.7.5, but you have visions 0.7.4 which is incompatible.\n"
     ]
    }
   ],
   "source": [
    "%pip install gensim"
   ]
  },
  {
   "cell_type": "code",
   "execution_count": 4,
   "metadata": {},
   "outputs": [
    {
     "name": "stdout",
     "output_type": "stream",
     "text": [
      "[==================================================] 100.0% 1662.8/1662.8MB downloaded\n"
     ]
    }
   ],
   "source": [
    "import gensim.downloader as api\n",
    "import socket\n",
    "\n",
    "socket.setdefaulttimeout(300)\n",
    "wv = api.load(\"word2vec-google-news-300\")\n"
   ]
  },
  {
   "cell_type": "code",
   "execution_count": 6,
   "metadata": {},
   "outputs": [
    {
     "data": {
      "text/plain": [
       "0.729151"
      ]
     },
     "execution_count": 6,
     "metadata": {},
     "output_type": "execute_result"
    }
   ],
   "source": [
    "wv.similarity(w1=\"good\",w2=\"great\")"
   ]
  },
  {
   "cell_type": "code",
   "execution_count": 7,
   "metadata": {},
   "outputs": [
    {
     "data": {
      "text/plain": [
       "[('revamped', 0.5752019882202148),\n",
       " ('thenew', 0.5709600448608398),\n",
       " ('newest', 0.5672253966331482),\n",
       " ('newly', 0.48823970556259155),\n",
       " ('revamps', 0.4771972596645355),\n",
       " ('newer', 0.47398415207862854),\n",
       " ('brand_spanking', 0.4738619029521942),\n",
       " ('existing', 0.471565842628479),\n",
       " ('long_awaited', 0.4662875533103943),\n",
       " ('groundbreaking', 0.45392632484436035)]"
      ]
     },
     "execution_count": 7,
     "metadata": {},
     "output_type": "execute_result"
    }
   ],
   "source": [
    "wv.most_similar(\"new\")"
   ]
  },
  {
   "cell_type": "code",
   "execution_count": 8,
   "metadata": {},
   "outputs": [
    {
     "data": {
      "text/plain": [
       "[('cats', 0.8099379539489746),\n",
       " ('dog', 0.760945737361908),\n",
       " ('kitten', 0.7464985251426697),\n",
       " ('feline', 0.7326234579086304),\n",
       " ('beagle', 0.7150582671165466),\n",
       " ('puppy', 0.7075453400611877),\n",
       " ('pup', 0.6934291124343872),\n",
       " ('pet', 0.6891531348228455),\n",
       " ('felines', 0.6755931973457336),\n",
       " ('chihuahua', 0.6709762215614319)]"
      ]
     },
     "execution_count": 8,
     "metadata": {},
     "output_type": "execute_result"
    }
   ],
   "source": [
    "wv.most_similar(\"cat\")"
   ]
  },
  {
   "cell_type": "code",
   "execution_count": 9,
   "metadata": {},
   "outputs": [
    {
     "data": {
      "text/plain": [
       "'cat'"
      ]
     },
     "execution_count": 9,
     "metadata": {},
     "output_type": "execute_result"
    }
   ],
   "source": [
    "wv.doesnt_match([\"facebook\",\"google\",\"cat\",\"microsoft\"])"
   ]
  },
  {
   "cell_type": "code",
   "execution_count": null,
   "metadata": {},
   "outputs": [],
   "source": []
  }
 ],
 "metadata": {
  "kernelspec": {
   "display_name": ".venv",
   "language": "python",
   "name": "python3"
  },
  "language_info": {
   "codemirror_mode": {
    "name": "ipython",
    "version": 3
   },
   "file_extension": ".py",
   "mimetype": "text/x-python",
   "name": "python",
   "nbconvert_exporter": "python",
   "pygments_lexer": "ipython3",
   "version": "3.12.4"
  }
 },
 "nbformat": 4,
 "nbformat_minor": 2
}
